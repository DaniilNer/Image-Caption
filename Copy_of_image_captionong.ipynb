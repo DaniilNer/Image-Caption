{
  "nbformat": 4,
  "nbformat_minor": 0,
  "metadata": {
    "colab": {
      "name": "Copy_of_image_captionong.ipynb",
      "provenance": [],
      "collapsed_sections": []
    },
    "language_info": {
      "codemirror_mode": {
        "name": "ipython",
        "version": 3
      },
      "file_extension": ".py",
      "mimetype": "text/x-python",
      "name": "python",
      "nbconvert_exporter": "python",
      "pygments_lexer": "ipython3",
      "version": "3.6.4"
    },
    "kernelspec": {
      "name": "python3",
      "display_name": "Python 3"
    },
    "accelerator": "GPU"
  },
  "cells": [
    {
      "cell_type": "markdown",
      "metadata": {
        "id": "qpLplwgOtmOY",
        "colab_type": "text"
      },
      "source": [
        "<h1 align=\"center\"> Image Captioning </h1>\n",
        "\n",
        "Итак, мы сейчас займемся image captioning =)\n",
        "![img](https://i.imgur.com/obITaMl.png)"
      ]
    },
    {
      "cell_type": "markdown",
      "metadata": {
        "id": "8Ya3uvGqtmOa",
        "colab_type": "text"
      },
      "source": [
        "## Описание\n",
        "\n",
        "Image captioning -- это когда мы подаем модели каритнку, а она возвращает нам текст с описанием того, что на ней изображено. \n",
        "\n",
        "Как мы знаем из нашего замечательного курса, с картинками лучше всегоработают модели CNN, а с текстом -- RNN. Поэтому логично, что для image captioning нужно совместить и то, и другое =)\n",
        "\n",
        "Для удобства (и, в какой-то степени, экономии времени), мы будем строить не одну большую модель CNN+RNN, которая будет кушать картинку и выдавать текст, а разобьем ее на две. Первая модель будет кушать картинку и выдавать вектор картинки, а вторая модель будет кушать этот вектор и генерировать текст. Вектор, по сути, будет числовым \"описанием\" картинки, в котором будет содержаться вся необходимая информация для второй сети, чтобы та смогла нагенерить текста с описанием. Короче, как в автоэнкодерах)"
      ]
    },
    {
      "cell_type": "markdown",
      "metadata": {
        "id": "EqbinmhstmOb",
        "colab_type": "text"
      },
      "source": [
        "## План\n",
        "\n",
        "Итак, как мы будем действовать:\n",
        "\n",
        "Датасет: MSCOCO: [описание](http://cocodataset.org/#download), [ссылка для скачивания](https://yadi.sk/d/HR_cHsJcbMpL-g)"
      ]
    },
    {
      "cell_type": "markdown",
      "metadata": {
        "id": "hd7DizkTtmOg",
        "colab_type": "text"
      },
      "source": [
        "### Базовая часть:\n",
        "1. Скачаем датасет (векторы картинок и соответствующие описания) и предобработаем описания так, как мы любим. Ну, токенизация там (да, в 100500-ый раз, только теперь сами)\n",
        "2. В качестве первой сети возьмем Inception-v3 и скачаем к ней предобученные веса (тренировать и генерировать веса -- это оч долго, поверьте мне). \n",
        "3. Напишем вторую сетку, которая будет брать векторы из Inception-v3 и генерить описания.\n",
        "4. Обучим вторую сеть на MSCOCO\n",
        "\n",
        "### Вариативная часть:\n",
        "Что еще можно сделать:\n",
        "1. Нагуглить другой датасет (в MSCOCO видны паттерны -- все тексты выглядят как \"хто-то с чем-то что-то делает\")\n",
        "2. Взять не Inseption-v3, а другую предобученную сеть\n",
        "3. Запилить аттеншен во второй сети (не, ну а вдруг)\n",
        "4. Написать бота ))0))\n",
        "5. Whatever comes to your head"
      ]
    },
    {
      "cell_type": "markdown",
      "metadata": {
        "id": "Utxq9wvgtmOi",
        "colab_type": "text"
      },
      "source": [
        "## Базовая часть:\n",
        "\n",
        "### 1. Предобработка текстов из датасета"
      ]
    },
    {
      "cell_type": "code",
      "metadata": {
        "id": "hoZd450QWS_b",
        "colab_type": "code",
        "outputId": "d2efb5f2-f458-41c8-844d-f41e1da8016c",
        "colab": {
          "base_uri": "https://localhost:8080/",
          "height": 122
        }
      },
      "source": [
        "DATA_PATH = ''\n",
        "%matplotlib inline\n",
        "\n",
        "# For Google Colab only:\n",
        "import sys\n",
        "sys.path.append('/content/gdrive/My Drive/Colab Notebooks')\n",
        "#from reco_utils.recommender.sar.sar_singlenode import SARSingleNode\n",
        "from google.colab import drive\n",
        "drive.mount('/content/gdrive')\n",
        "\n",
        "DATA_PATH = 'gdrive/My Drive/Colab Notebooks/'"
      ],
      "execution_count": 1,
      "outputs": [
        {
          "output_type": "stream",
          "text": [
            "Go to this URL in a browser: https://accounts.google.com/o/oauth2/auth?client_id=947318989803-6bn6qk8qdgf4n4g3pfee6491hc0brc4i.apps.googleusercontent.com&redirect_uri=urn%3aietf%3awg%3aoauth%3a2.0%3aoob&response_type=code&scope=email%20https%3a%2f%2fwww.googleapis.com%2fauth%2fdocs.test%20https%3a%2f%2fwww.googleapis.com%2fauth%2fdrive%20https%3a%2f%2fwww.googleapis.com%2fauth%2fdrive.photos.readonly%20https%3a%2f%2fwww.googleapis.com%2fauth%2fpeopleapi.readonly\n",
            "\n",
            "Enter your authorization code:\n",
            "··········\n",
            "Mounted at /content/gdrive\n"
          ],
          "name": "stdout"
        }
      ]
    },
    {
      "cell_type": "code",
      "metadata": {
        "id": "LOIyct-ItmOk",
        "colab_type": "code",
        "colab": {}
      },
      "source": [
        "import numpy as np\n",
        "import json\n",
        "\n",
        "# загружаем датасет\n",
        "img_codes = np.load(\"gdrive/My Drive/proj/data/image_codes.npy\")\n",
        "captions = json.load(open('gdrive/My Drive/proj/data/captions_tokenized.json'))"
      ],
      "execution_count": 0,
      "outputs": []
    },
    {
      "cell_type": "code",
      "metadata": {
        "id": "_UVSzWsZs1sY",
        "colab_type": "code",
        "outputId": "32e2202a-fb8d-4b17-8c11-63a309dbdbcf",
        "colab": {
          "base_uri": "https://localhost:8080/",
          "height": 34
        }
      },
      "source": [
        "!ls gdrive/\"My Drive\"/proj/"
      ],
      "execution_count": 3,
      "outputs": [
        {
          "output_type": "stream",
          "text": [
            "data  handout.tar.gz  inception_v3_google-1a9a5a14.pth\n"
          ],
          "name": "stdout"
        }
      ]
    },
    {
      "cell_type": "code",
      "metadata": {
        "id": "RkYcMdLEuVl5",
        "colab_type": "code",
        "colab": {}
      },
      "source": [
        ""
      ],
      "execution_count": 0,
      "outputs": []
    },
    {
      "cell_type": "code",
      "metadata": {
        "id": "om6GHAEdtmOu",
        "colab_type": "code",
        "outputId": "6a8a2874-05fb-4376-b1dd-0a8be53d0a8b",
        "colab": {
          "base_uri": "https://localhost:8080/",
          "height": 204
        }
      },
      "source": [
        "# посмотрим на датасет\n",
        "print(\"Each image code is a 2048-unit vector [ shape: %s ]\" % str(img_codes.shape))\n",
        "print(img_codes[0,:10], end='\\n\\n')\n",
        "print(\"For each image there are 5 reference captions, e.g.:\\n\")\n",
        "print('\\n'.join(captions[0]))"
      ],
      "execution_count": 4,
      "outputs": [
        {
          "output_type": "stream",
          "text": [
            "Each image code is a 2048-unit vector [ shape: (118287, 2048) ]\n",
            "[0.3659946  0.2016555  0.9245725  0.57063824 0.547268   0.8275868\n",
            " 0.3687277  0.12085301 0.0561931  0.49758485]\n",
            "\n",
            "For each image there are 5 reference captions, e.g.:\n",
            "\n",
            "people shopping in an open market for vegetables .\n",
            "an open market full of people and piles of vegetables .\n",
            "people are shopping at an open air produce market .\n",
            "large piles of carrots and potatoes at a crowded outdoor market .\n",
            "people shop for vegetables like carrots and potatoes at an open air market .\n"
          ],
          "name": "stdout"
        }
      ]
    },
    {
      "cell_type": "markdown",
      "metadata": {
        "id": "3M3zOw1otmOy",
        "colab_type": "text"
      },
      "source": [
        "Как можно видеть, в датасете все captions (тексты-описания) уже токенизированы и приведены в нижний регистр. Нам осталось сделать следующее:\n",
        "\n",
        "1. Добавить ко всем описаниям символы начала и конца предложения \n",
        "2. Посчитать частоту встречания каждого слова из словаря и оставить тольео те, которые встречаются больше Х раз (например, Х=5)\n",
        "3. Создать словарь из оставшихся слов + символов начала, конца предложения и PAD символа\n",
        "4. Написать функцию, которая будет возвращать батч из описаний. Мы такое уже делали на прошлвх занятиях. Батч должен выглядеть примерно так:\n",
        "\n",
        "[[   1,  525, 8955, 5392, 9640, 4713, 7470,  525, 7341, 2296, 7696,2,    3,    3,    3,    3,    3,    3,    3],\n",
        "   \n",
        "[   1,  525, 8955, 6784, 3557,  525, 7341, 2296,    2,    3,    3,3,    3,    3,    3,    3,    3,    3,    3],\n",
        "\n",
        "[   1,  525, 8955, 9209, 3557, 5486, 8335, 3071, 2296,    2,    3,3,    3,    3,    3,    3,    3,    3,    3],\n",
        "\n",
        "[   1, 6292, 1508, 8955, 9209, 6784, 3557, 3071, 6971, 5520, 7696,2,    3,    3,    3,    3,    3,    3,    3],\n",
        "\n",
        "[   1,  525, 8955, 6784, 3557,  525, 7341, 6919, 2919, 6292,  250,393,  525, 4618, 8335, 6292, 7882, 7696,    2]]\n",
        "         \n",
        "То есть, короткие предложения дополняются PAD символами, слишком длинные обрезуются, в начале и конце по коду символа начал и конца предложения.\n",
        "\n",
        "Уверена, эта часть вам покажется очень знакомой и легкой =)"
      ]
    },
    {
      "cell_type": "code",
      "metadata": {
        "id": "UK2UNPrDgg-k",
        "colab_type": "code",
        "outputId": "a2ebf86f-ffb8-4020-d8c5-3424589b8bb9",
        "colab": {
          "base_uri": "https://localhost:8080/",
          "height": 68
        }
      },
      "source": [
        "import nltk\n",
        "from collections import Counter\n",
        "nltk.download('punkt')"
      ],
      "execution_count": 5,
      "outputs": [
        {
          "output_type": "stream",
          "text": [
            "[nltk_data] Downloading package punkt to /root/nltk_data...\n",
            "[nltk_data]   Unzipping tokenizers/punkt.zip.\n"
          ],
          "name": "stdout"
        },
        {
          "output_type": "execute_result",
          "data": {
            "text/plain": [
              "True"
            ]
          },
          "metadata": {
            "tags": []
          },
          "execution_count": 5
        }
      ]
    },
    {
      "cell_type": "code",
      "metadata": {
        "id": "u4TxiLdQt4wx",
        "colab_type": "code",
        "colab": {}
      },
      "source": [
        "class Vocabulary(object):\n",
        "    \"\"\"Simple vocabulary wrapper.\"\"\"\n",
        "    def __init__(self):\n",
        "        self.word2idx = {}\n",
        "        self.idx2word = {}\n",
        "        self.idx = 0\n",
        "\n",
        "    def add_word(self, word):\n",
        "        if not word in self.word2idx:\n",
        "            self.word2idx[word] = self.idx\n",
        "            self.idx2word[self.idx] = word\n",
        "            self.idx += 1\n",
        "\n",
        "    def __call__(self, word):\n",
        "        if not word in self.word2idx:\n",
        "            return self.word2idx['<unk>']\n",
        "        return self.word2idx[word]\n",
        "\n",
        "    def __len__(self):\n",
        "        return len(self.word2idx)"
      ],
      "execution_count": 0,
      "outputs": []
    },
    {
      "cell_type": "code",
      "metadata": {
        "id": "NRC58Rw7wRIq",
        "colab_type": "code",
        "outputId": "6891a5ed-6372-446d-d1f4-908e9b8ca569",
        "colab": {
          "base_uri": "https://localhost:8080/",
          "height": 1000
        }
      },
      "source": [
        "counter = Counter()\n",
        "max_len = 0\n",
        "for i, sent in enumerate(captions):\n",
        "  res = max(len(ele) for ele in sent) \n",
        "  sen = ' '.join(sent).lower()\n",
        "  if res > max_len:\n",
        "    max_len = res\n",
        "  tokens = nltk.tokenize.word_tokenize(sen)\n",
        "  counter.update(tokens)\n",
        "  if (i+1) % 1000 == 0:\n",
        "            print(\"[{}/{}] Tokenized the captions.\".format(i+1, len(captions)))"
      ],
      "execution_count": 7,
      "outputs": [
        {
          "output_type": "stream",
          "text": [
            "[1000/118287] Tokenized the captions.\n",
            "[2000/118287] Tokenized the captions.\n",
            "[3000/118287] Tokenized the captions.\n",
            "[4000/118287] Tokenized the captions.\n",
            "[5000/118287] Tokenized the captions.\n",
            "[6000/118287] Tokenized the captions.\n",
            "[7000/118287] Tokenized the captions.\n",
            "[8000/118287] Tokenized the captions.\n",
            "[9000/118287] Tokenized the captions.\n",
            "[10000/118287] Tokenized the captions.\n",
            "[11000/118287] Tokenized the captions.\n",
            "[12000/118287] Tokenized the captions.\n",
            "[13000/118287] Tokenized the captions.\n",
            "[14000/118287] Tokenized the captions.\n",
            "[15000/118287] Tokenized the captions.\n",
            "[16000/118287] Tokenized the captions.\n",
            "[17000/118287] Tokenized the captions.\n",
            "[18000/118287] Tokenized the captions.\n",
            "[19000/118287] Tokenized the captions.\n",
            "[20000/118287] Tokenized the captions.\n",
            "[21000/118287] Tokenized the captions.\n",
            "[22000/118287] Tokenized the captions.\n",
            "[23000/118287] Tokenized the captions.\n",
            "[24000/118287] Tokenized the captions.\n",
            "[25000/118287] Tokenized the captions.\n",
            "[26000/118287] Tokenized the captions.\n",
            "[27000/118287] Tokenized the captions.\n",
            "[28000/118287] Tokenized the captions.\n",
            "[29000/118287] Tokenized the captions.\n",
            "[30000/118287] Tokenized the captions.\n",
            "[31000/118287] Tokenized the captions.\n",
            "[32000/118287] Tokenized the captions.\n",
            "[33000/118287] Tokenized the captions.\n",
            "[34000/118287] Tokenized the captions.\n",
            "[35000/118287] Tokenized the captions.\n",
            "[36000/118287] Tokenized the captions.\n",
            "[37000/118287] Tokenized the captions.\n",
            "[38000/118287] Tokenized the captions.\n",
            "[39000/118287] Tokenized the captions.\n",
            "[40000/118287] Tokenized the captions.\n",
            "[41000/118287] Tokenized the captions.\n",
            "[42000/118287] Tokenized the captions.\n",
            "[43000/118287] Tokenized the captions.\n",
            "[44000/118287] Tokenized the captions.\n",
            "[45000/118287] Tokenized the captions.\n",
            "[46000/118287] Tokenized the captions.\n",
            "[47000/118287] Tokenized the captions.\n",
            "[48000/118287] Tokenized the captions.\n",
            "[49000/118287] Tokenized the captions.\n",
            "[50000/118287] Tokenized the captions.\n",
            "[51000/118287] Tokenized the captions.\n",
            "[52000/118287] Tokenized the captions.\n",
            "[53000/118287] Tokenized the captions.\n",
            "[54000/118287] Tokenized the captions.\n",
            "[55000/118287] Tokenized the captions.\n",
            "[56000/118287] Tokenized the captions.\n",
            "[57000/118287] Tokenized the captions.\n",
            "[58000/118287] Tokenized the captions.\n",
            "[59000/118287] Tokenized the captions.\n",
            "[60000/118287] Tokenized the captions.\n",
            "[61000/118287] Tokenized the captions.\n",
            "[62000/118287] Tokenized the captions.\n",
            "[63000/118287] Tokenized the captions.\n",
            "[64000/118287] Tokenized the captions.\n",
            "[65000/118287] Tokenized the captions.\n",
            "[66000/118287] Tokenized the captions.\n",
            "[67000/118287] Tokenized the captions.\n",
            "[68000/118287] Tokenized the captions.\n",
            "[69000/118287] Tokenized the captions.\n",
            "[70000/118287] Tokenized the captions.\n",
            "[71000/118287] Tokenized the captions.\n",
            "[72000/118287] Tokenized the captions.\n",
            "[73000/118287] Tokenized the captions.\n",
            "[74000/118287] Tokenized the captions.\n",
            "[75000/118287] Tokenized the captions.\n",
            "[76000/118287] Tokenized the captions.\n",
            "[77000/118287] Tokenized the captions.\n",
            "[78000/118287] Tokenized the captions.\n",
            "[79000/118287] Tokenized the captions.\n",
            "[80000/118287] Tokenized the captions.\n",
            "[81000/118287] Tokenized the captions.\n",
            "[82000/118287] Tokenized the captions.\n",
            "[83000/118287] Tokenized the captions.\n",
            "[84000/118287] Tokenized the captions.\n",
            "[85000/118287] Tokenized the captions.\n",
            "[86000/118287] Tokenized the captions.\n",
            "[87000/118287] Tokenized the captions.\n",
            "[88000/118287] Tokenized the captions.\n",
            "[89000/118287] Tokenized the captions.\n",
            "[90000/118287] Tokenized the captions.\n",
            "[91000/118287] Tokenized the captions.\n",
            "[92000/118287] Tokenized the captions.\n",
            "[93000/118287] Tokenized the captions.\n",
            "[94000/118287] Tokenized the captions.\n",
            "[95000/118287] Tokenized the captions.\n",
            "[96000/118287] Tokenized the captions.\n",
            "[97000/118287] Tokenized the captions.\n",
            "[98000/118287] Tokenized the captions.\n",
            "[99000/118287] Tokenized the captions.\n",
            "[100000/118287] Tokenized the captions.\n",
            "[101000/118287] Tokenized the captions.\n",
            "[102000/118287] Tokenized the captions.\n",
            "[103000/118287] Tokenized the captions.\n",
            "[104000/118287] Tokenized the captions.\n",
            "[105000/118287] Tokenized the captions.\n",
            "[106000/118287] Tokenized the captions.\n",
            "[107000/118287] Tokenized the captions.\n",
            "[108000/118287] Tokenized the captions.\n",
            "[109000/118287] Tokenized the captions.\n",
            "[110000/118287] Tokenized the captions.\n",
            "[111000/118287] Tokenized the captions.\n",
            "[112000/118287] Tokenized the captions.\n",
            "[113000/118287] Tokenized the captions.\n",
            "[114000/118287] Tokenized the captions.\n",
            "[115000/118287] Tokenized the captions.\n",
            "[116000/118287] Tokenized the captions.\n",
            "[117000/118287] Tokenized the captions.\n",
            "[118000/118287] Tokenized the captions.\n"
          ],
          "name": "stdout"
        }
      ]
    },
    {
      "cell_type": "code",
      "metadata": {
        "id": "_bhYm4ast7o7",
        "colab_type": "code",
        "colab": {}
      },
      "source": [
        "words = [word for word, cnt in counter.items() if cnt > 5]\n",
        "vocab = Vocabulary()\n",
        "vocab.add_word('<pad>')\n",
        "vocab.add_word('<start>')\n",
        "vocab.add_word('<end>')\n",
        "vocab.add_word('<unk>')\n",
        "\n",
        "    # Add the words to the vocabulary.\n",
        "for i, word in enumerate(words):\n",
        "  vocab.add_word(word)"
      ],
      "execution_count": 0,
      "outputs": []
    },
    {
      "cell_type": "code",
      "metadata": {
        "id": "fcL_A3b1EX-N",
        "colab_type": "code",
        "colab": {}
      },
      "source": [
        ""
      ],
      "execution_count": 0,
      "outputs": []
    },
    {
      "cell_type": "code",
      "metadata": {
        "id": "yWfm4aBMt9s8",
        "colab_type": "code",
        "outputId": "40b6ae55-c29f-4cc6-d43a-072612cad0de",
        "colab": {
          "base_uri": "https://localhost:8080/",
          "height": 1000
        }
      },
      "source": [
        "captions_token = []\n",
        "targets = torch.zeros(len(captions), 5, max_len).long()\n",
        "\n",
        "for i, sent in enumerate(captions):\n",
        "  if (i+1) % 1000 == 0:\n",
        "            print(\"[{}/{}] Tokenized the captions.\".format(i+1, len(captions)))\n",
        "  #i *= 5\n",
        "  for j in range(len(sent)):\n",
        "    tokens = nltk.tokenize.word_tokenize(sent[j].lower())\n",
        "    caption = []\n",
        "    caption.append(vocab('<start>'))\n",
        "    caption.extend([vocab(token) for token in tokens])\n",
        "    caption.append(vocab('<end>'))\n",
        "    #while len(caption) < max_len:\n",
        "    #  caption.append('<unk>')\n",
        "    caption = torch.Tensor(caption)\n",
        "    #targets[i+j, :len(caption)] = caption\n",
        "    targets[i, j, :len(caption)] = caption"
      ],
      "execution_count": 10,
      "outputs": [
        {
          "output_type": "stream",
          "text": [
            "[1000/118287] Tokenized the captions.\n",
            "[2000/118287] Tokenized the captions.\n",
            "[3000/118287] Tokenized the captions.\n",
            "[4000/118287] Tokenized the captions.\n",
            "[5000/118287] Tokenized the captions.\n",
            "[6000/118287] Tokenized the captions.\n",
            "[7000/118287] Tokenized the captions.\n",
            "[8000/118287] Tokenized the captions.\n",
            "[9000/118287] Tokenized the captions.\n",
            "[10000/118287] Tokenized the captions.\n",
            "[11000/118287] Tokenized the captions.\n",
            "[12000/118287] Tokenized the captions.\n",
            "[13000/118287] Tokenized the captions.\n",
            "[14000/118287] Tokenized the captions.\n",
            "[15000/118287] Tokenized the captions.\n",
            "[16000/118287] Tokenized the captions.\n",
            "[17000/118287] Tokenized the captions.\n",
            "[18000/118287] Tokenized the captions.\n",
            "[19000/118287] Tokenized the captions.\n",
            "[20000/118287] Tokenized the captions.\n",
            "[21000/118287] Tokenized the captions.\n",
            "[22000/118287] Tokenized the captions.\n",
            "[23000/118287] Tokenized the captions.\n",
            "[24000/118287] Tokenized the captions.\n",
            "[25000/118287] Tokenized the captions.\n",
            "[26000/118287] Tokenized the captions.\n",
            "[27000/118287] Tokenized the captions.\n",
            "[28000/118287] Tokenized the captions.\n",
            "[29000/118287] Tokenized the captions.\n",
            "[30000/118287] Tokenized the captions.\n",
            "[31000/118287] Tokenized the captions.\n",
            "[32000/118287] Tokenized the captions.\n",
            "[33000/118287] Tokenized the captions.\n",
            "[34000/118287] Tokenized the captions.\n",
            "[35000/118287] Tokenized the captions.\n",
            "[36000/118287] Tokenized the captions.\n",
            "[37000/118287] Tokenized the captions.\n",
            "[38000/118287] Tokenized the captions.\n",
            "[39000/118287] Tokenized the captions.\n",
            "[40000/118287] Tokenized the captions.\n",
            "[41000/118287] Tokenized the captions.\n",
            "[42000/118287] Tokenized the captions.\n",
            "[43000/118287] Tokenized the captions.\n",
            "[44000/118287] Tokenized the captions.\n",
            "[45000/118287] Tokenized the captions.\n",
            "[46000/118287] Tokenized the captions.\n",
            "[47000/118287] Tokenized the captions.\n",
            "[48000/118287] Tokenized the captions.\n",
            "[49000/118287] Tokenized the captions.\n",
            "[50000/118287] Tokenized the captions.\n",
            "[51000/118287] Tokenized the captions.\n",
            "[52000/118287] Tokenized the captions.\n",
            "[53000/118287] Tokenized the captions.\n",
            "[54000/118287] Tokenized the captions.\n",
            "[55000/118287] Tokenized the captions.\n",
            "[56000/118287] Tokenized the captions.\n",
            "[57000/118287] Tokenized the captions.\n",
            "[58000/118287] Tokenized the captions.\n",
            "[59000/118287] Tokenized the captions.\n",
            "[60000/118287] Tokenized the captions.\n",
            "[61000/118287] Tokenized the captions.\n",
            "[62000/118287] Tokenized the captions.\n",
            "[63000/118287] Tokenized the captions.\n",
            "[64000/118287] Tokenized the captions.\n",
            "[65000/118287] Tokenized the captions.\n",
            "[66000/118287] Tokenized the captions.\n",
            "[67000/118287] Tokenized the captions.\n",
            "[68000/118287] Tokenized the captions.\n",
            "[69000/118287] Tokenized the captions.\n",
            "[70000/118287] Tokenized the captions.\n",
            "[71000/118287] Tokenized the captions.\n",
            "[72000/118287] Tokenized the captions.\n",
            "[73000/118287] Tokenized the captions.\n",
            "[74000/118287] Tokenized the captions.\n",
            "[75000/118287] Tokenized the captions.\n",
            "[76000/118287] Tokenized the captions.\n",
            "[77000/118287] Tokenized the captions.\n",
            "[78000/118287] Tokenized the captions.\n",
            "[79000/118287] Tokenized the captions.\n",
            "[80000/118287] Tokenized the captions.\n",
            "[81000/118287] Tokenized the captions.\n",
            "[82000/118287] Tokenized the captions.\n",
            "[83000/118287] Tokenized the captions.\n",
            "[84000/118287] Tokenized the captions.\n",
            "[85000/118287] Tokenized the captions.\n",
            "[86000/118287] Tokenized the captions.\n",
            "[87000/118287] Tokenized the captions.\n",
            "[88000/118287] Tokenized the captions.\n",
            "[89000/118287] Tokenized the captions.\n",
            "[90000/118287] Tokenized the captions.\n",
            "[91000/118287] Tokenized the captions.\n",
            "[92000/118287] Tokenized the captions.\n",
            "[93000/118287] Tokenized the captions.\n",
            "[94000/118287] Tokenized the captions.\n",
            "[95000/118287] Tokenized the captions.\n",
            "[96000/118287] Tokenized the captions.\n",
            "[97000/118287] Tokenized the captions.\n",
            "[98000/118287] Tokenized the captions.\n",
            "[99000/118287] Tokenized the captions.\n",
            "[100000/118287] Tokenized the captions.\n",
            "[101000/118287] Tokenized the captions.\n",
            "[102000/118287] Tokenized the captions.\n",
            "[103000/118287] Tokenized the captions.\n",
            "[104000/118287] Tokenized the captions.\n",
            "[105000/118287] Tokenized the captions.\n",
            "[106000/118287] Tokenized the captions.\n",
            "[107000/118287] Tokenized the captions.\n",
            "[108000/118287] Tokenized the captions.\n",
            "[109000/118287] Tokenized the captions.\n",
            "[110000/118287] Tokenized the captions.\n",
            "[111000/118287] Tokenized the captions.\n",
            "[112000/118287] Tokenized the captions.\n",
            "[113000/118287] Tokenized the captions.\n",
            "[114000/118287] Tokenized the captions.\n",
            "[115000/118287] Tokenized the captions.\n",
            "[116000/118287] Tokenized the captions.\n",
            "[117000/118287] Tokenized the captions.\n",
            "[118000/118287] Tokenized the captions.\n"
          ],
          "name": "stdout"
        }
      ]
    },
    {
      "cell_type": "code",
      "metadata": {
        "id": "ToXH-CJx9Z22",
        "colab_type": "code",
        "outputId": "10216dc2-1341-4765-ecb0-dc759c60abf2",
        "colab": {
          "base_uri": "https://localhost:8080/",
          "height": 102
        }
      },
      "source": [
        "captions[1]"
      ],
      "execution_count": 11,
      "outputs": [
        {
          "output_type": "execute_result",
          "data": {
            "text/plain": [
              "['a person skiing down a steep hill',\n",
              " 'a person skiing down a steep snowy hill .',\n",
              " 'a person on snow skis going down a steep slope .',\n",
              " 'a skier is skiing down a down hill slope .',\n",
              " 'a skier is shown taking on a very steep slope .']"
            ]
          },
          "metadata": {
            "tags": []
          },
          "execution_count": 11
        }
      ]
    },
    {
      "cell_type": "code",
      "metadata": {
        "id": "4LAtytgxIF1Q",
        "colab_type": "code",
        "outputId": "ca17cc50-ac3c-46f8-c4ef-76a4c2ec24fe",
        "colab": {
          "base_uri": "https://localhost:8080/",
          "height": 34
        }
      },
      "source": [
        "vocab.idx2word[30]"
      ],
      "execution_count": 12,
      "outputs": [
        {
          "output_type": "execute_result",
          "data": {
            "text/plain": [
              "'skiing'"
            ]
          },
          "metadata": {
            "tags": []
          },
          "execution_count": 12
        }
      ]
    },
    {
      "cell_type": "code",
      "metadata": {
        "id": "IfYmxCgIFkoQ",
        "colab_type": "code",
        "outputId": "4e984daf-b819-4373-ca20-7657a1de8336",
        "colab": {
          "base_uri": "https://localhost:8080/",
          "height": 102
        }
      },
      "source": [
        "targets[0]"
      ],
      "execution_count": 13,
      "outputs": [
        {
          "output_type": "execute_result",
          "data": {
            "text/plain": [
              "tensor([[ 1,  4,  5,  ...,  0,  0,  0],\n",
              "        [ 1,  7,  8,  ...,  0,  0,  0],\n",
              "        [ 1,  4, 17,  ...,  0,  0,  0],\n",
              "        [ 1, 21, 16,  ...,  0,  0,  0],\n",
              "        [ 1,  4, 27,  ...,  0,  0,  0]])"
            ]
          },
          "metadata": {
            "tags": []
          },
          "execution_count": 13
        }
      ]
    },
    {
      "cell_type": "markdown",
      "metadata": {
        "id": "leHdzi4ntmOz",
        "colab_type": "text"
      },
      "source": [
        "### 2. Напишем свою сетку из RNN для вывода описаний\n"
      ]
    },
    {
      "cell_type": "markdown",
      "metadata": {
        "id": "q9NKJKlNJPRE",
        "colab_type": "text"
      },
      "source": [
        "Сейчас мы напишем сеть, которая будет получать выходы CNN-сетки (эмбеддинги картинок) и преобразовывать их в текст."
      ]
    },
    {
      "cell_type": "code",
      "metadata": {
        "id": "t9kb62IQtmO0",
        "colab_type": "code",
        "colab": {}
      },
      "source": [
        "import torch, torch.nn as nn\n",
        "import torch.nn.functional as F\n",
        "from torch.nn.utils.rnn import pack_padded_sequence"
      ],
      "execution_count": 0,
      "outputs": []
    },
    {
      "cell_type": "code",
      "metadata": {
        "id": "6PJTCTYTtmO2",
        "colab_type": "code",
        "colab": {}
      },
      "source": [
        "class CaptionNet(nn.Module):\n",
        "    def __init__(self, n_tokens, emb_size=256, lstm_units=512, cnn_feature_size=2048):\n",
        "        super(self.__class__, self).__init__()\n",
        "        \n",
        "        # два линейных слоя, которые будут из векторов, полученных на выходе Inseption, \n",
        "        # получать начальные состояния h0 и c0 LSTM-ки, которую мы потом будем \n",
        "        # разворачивать во времени и генерить ею текст\n",
        "        self.cnn_to_h0 = nn.Linear(cnn_feature_size, lstm_units)\n",
        "        self.cnn_to_c0 = nn.Linear(cnn_feature_size, lstm_units)\n",
        "        \n",
        "        # вот теперь recurrent part\n",
        "\n",
        "        # create embedding for input words. Use the parameters (e.g. emb_size).\n",
        "        self.embed = nn.Embedding(n_tokens, emb_size)\n",
        "            \n",
        "        # lstm: настакайте LSTM-ок (1 или более, но не надо сразу пихать больше двух, замечаетесь ждать).\n",
        "        self.lstm = nn.LSTM(emb_size, lstm_units, 1, batch_first=True, dropout=0.2)\n",
        "            \n",
        "        # ну и линейный слой для получения логитов\n",
        "        self.linear = nn.Linear(lstm_units, n_tokens)\n",
        "        \n",
        "    def forward(self, image_vectors, captions_ix):\n",
        "        \"\"\" \n",
        "        Apply the network in training mode. \n",
        "        :param image_vectors: torch tensor, содержаший выходы inseption. Те, из которых будем генерить текст\n",
        "                shape: [batch, cnn_feature_size]\n",
        "        :param captions_ix: \n",
        "                таргет описания картинок в виде матрицы\n",
        "        :returns: логиты для сгенерированного текста описания, shape: [batch, word_i, n_tokens]\n",
        "        \"\"\"\n",
        "        initial_cell = self.cnn_to_c0(image_vectors)\n",
        "        initial_hid = self.cnn_to_h0(image_vectors)\n",
        "        \n",
        "        # \n",
        "        embeddings = self.embed(captions_ix)\n",
        "        #embeddings = torch.cat((image_vectors.unsqueeze(1), embeddings), 1)\n",
        "        #packed = pack_padded_sequence(embeddings, lengths, batch_first=True) \n",
        "        hiddens, _ = self.lstm(embeddings, (initial_cell.unsqueeze(0),initial_hid.unsqueeze(0)))\n",
        "        hiddens = hiddens.transpose(0,1)\n",
        "        # применим LSTM:\n",
        "        # 1. инициализируем lstm state с помощью initial_* (сверху)\n",
        "        # 2. скормим LSTM captions_emb\n",
        "        # 3. посчитаем логиты из выхода LSTM\n",
        "        \n",
        "         # shape: [batch, caption_length, lstm_units]\n",
        "        \n",
        "       \n",
        "        logits = self.linear(hiddens.view(hiddens.size(0)*hiddens.size(1), hiddens.size(2)))\n",
        "        \n",
        "        return logits.view(hiddens.size(0), hiddens.size(1), logits.size(1))        "
      ],
      "execution_count": 0,
      "outputs": []
    },
    {
      "cell_type": "code",
      "metadata": {
        "id": "1xqgaOEktmO4",
        "colab_type": "code",
        "colab": {
          "base_uri": "https://localhost:8080/",
          "height": 71
        },
        "outputId": "b3e1c987-65c6-42c6-e0ee-8a04323aaff3"
      },
      "source": [
        "device = \"cuda\"\n",
        "network = CaptionNet(len(vocab.idx2word)).to(device)\n",
        "crit = nn.CrossEntropyLoss()#(ignore_index=0)"
      ],
      "execution_count": 60,
      "outputs": [
        {
          "output_type": "stream",
          "text": [
            "/usr/local/lib/python3.6/dist-packages/torch/nn/modules/rnn.py:50: UserWarning: dropout option adds dropout after all but last recurrent layer, so non-zero dropout expects num_layers greater than 1, but got dropout=0.2 and num_layers=1\n",
            "  \"num_layers={}\".format(dropout, num_layers))\n"
          ],
          "name": "stderr"
        }
      ]
    },
    {
      "cell_type": "code",
      "metadata": {
        "id": "fT_rBGwStmO5",
        "colab_type": "code",
        "colab": {}
      },
      "source": [
        "def compute_loss(network, image_vectors, captions_ix, crit):\n",
        "    \"\"\"\n",
        "    :param image_vectors: torch tensor c выходами inception. shape: [batch, cnn_feature_size]\n",
        "    :param captions_ix: torch tensor с описаниями (в виде матрицы). shape: [batch, word_i]. \n",
        "    \n",
        "    :returns: scalar crossentropy loss (neg log likelihood) for next captions_ix given previous ones\n",
        "    \"\"\"\n",
        "    \n",
        "    # captions for input - all except last cuz we don't know next token for last one.\n",
        "   \n",
        "    captions_ix_inp = captions_ix[:, :-1]\n",
        "    captions_ix_next = captions_ix[:, 1:].contiguous().transpose(0,1).reshape(-1)\n",
        "    \n",
        "    # apply the network, get predictions for captions_ix_next\n",
        "    logits_for_next = network.forward(image_vectors, captions_ix_inp)\n",
        "    #print(logits_for_next.shape, captions_ix_next.shape)\n",
        "    loss = crit(logits_for_next.view(-1, len(vocab)), captions_ix_next)\n",
        "\n",
        "    # compute the loss function between logits_for_next and captions_ix_next\n",
        "    # ВАЖНО: не забудтье, что PADDING не должен влиять на лосс -- лосс должен склыдваться\n",
        "    # только из тех мест, где должно быть предсказано слово, а не PAD\n",
        "    # это можно сделать либо заведя маску из нулей и единиц (captions_ix_next != pad_ix) и умножить на нее лосс,\n",
        "    # либо просто используя ignore_index, который в торче есть как аргумент у некоторых лоссов.\n",
        "    \n",
        "    return loss"
      ],
      "execution_count": 0,
      "outputs": []
    },
    {
      "cell_type": "code",
      "metadata": {
        "id": "sCFHLmJjtmO6",
        "colab_type": "code",
        "colab": {}
      },
      "source": [
        "params = network.parameters()\n",
        "optimizer = torch.optim.Adam(params, lr=0.1)"
      ],
      "execution_count": 0,
      "outputs": []
    },
    {
      "cell_type": "markdown",
      "metadata": {
        "id": "P2eBRACTtmO8",
        "colab_type": "text"
      },
      "source": [
        "Поделим выборку на train/test:"
      ]
    },
    {
      "cell_type": "code",
      "metadata": {
        "id": "HEeFHwbTtmO8",
        "colab_type": "code",
        "colab": {}
      },
      "source": [
        ""
      ],
      "execution_count": 0,
      "outputs": []
    },
    {
      "cell_type": "code",
      "metadata": {
        "id": "2iHPvuhOY1xf",
        "colab_type": "code",
        "colab": {}
      },
      "source": [
        "from sklearn.model_selection import train_test_split\n",
        "captions = np.array(captions)\n",
        "train_img_codes, val_img_codes, train_captions, val_captions = train_test_split(img_codes, targets,\n",
        "                                                                                test_size=0.1,\n",
        "                                                                                random_state=42)"
      ],
      "execution_count": 0,
      "outputs": []
    },
    {
      "cell_type": "code",
      "metadata": {
        "id": "ECEHreMatmO9",
        "colab_type": "code",
        "colab": {}
      },
      "source": [
        "# batch generator. Можно заменить на свой/переделать этот\n",
        "from random import choice\n",
        "\n",
        "def generate_batch(img_codes, captions, batch_size, max_caption_len=None):\n",
        "    \n",
        "    #sample random numbers for image/caption indicies\n",
        "    random_image_ix = np.random.randint(0, len(img_codes), size=batch_size)\n",
        "    \n",
        "    #get images\n",
        "    batch_images = img_codes[random_image_ix]\n",
        "    \n",
        "    #5-7 captions for each image\n",
        "    #captions_for_batch_images = captions[random_image_ix]\n",
        "    \n",
        "    #pick one from a set of captions for each image\n",
        "    #batch_captions = map(choice,captions_for_batch_images)\n",
        "    ix = np.random.randint(0, 5, size=batch_size)\n",
        "    batch_captions = captions[random_image_ix, ix]\n",
        "    #convert to matrix\n",
        "    #batch_captions_ix = <YOUR CODE>\n",
        "    \n",
        "    return torch.tensor(batch_images, dtype=torch.float32), torch.tensor(batch_captions, dtype=torch.int64)\n",
        "    "
      ],
      "execution_count": 0,
      "outputs": []
    },
    {
      "cell_type": "code",
      "metadata": {
        "id": "c4UnLgw15wCD",
        "colab_type": "code",
        "outputId": "cd2498ae-2d3d-44c7-da3c-458dcc288bde",
        "colab": {
          "base_uri": "https://localhost:8080/",
          "height": 190
        }
      },
      "source": [
        "generate_batch(img_codes, targets, 4)"
      ],
      "execution_count": 19,
      "outputs": [
        {
          "output_type": "stream",
          "text": [
            "/usr/local/lib/python3.6/dist-packages/ipykernel_launcher.py:21: UserWarning: To copy construct from a tensor, it is recommended to use sourceTensor.clone().detach() or sourceTensor.clone().detach().requires_grad_(True), rather than torch.tensor(sourceTensor).\n"
          ],
          "name": "stderr"
        },
        {
          "output_type": "execute_result",
          "data": {
            "text/plain": [
              "(tensor([[0.0882, 0.3501, 0.2551,  ..., 0.0695, 0.3763, 0.6839],\n",
              "         [0.0687, 0.4325, 0.2952,  ..., 0.1024, 0.8728, 0.8133],\n",
              "         [0.1990, 0.4397, 0.2479,  ..., 0.1416, 0.4944, 0.6154],\n",
              "         [0.7155, 0.1600, 0.3112,  ..., 0.0412, 0.7781, 0.1242]]),\n",
              " tensor([[   1, 3485,   43,  ...,    0,    0,    0],\n",
              "         [   1,   88,    4,  ...,    0,    0,    0],\n",
              "         [   1,   24,  908,  ...,    0,    0,    0],\n",
              "         [   1,   45,  277,  ...,    0,    0,    0]]))"
            ]
          },
          "metadata": {
            "tags": []
          },
          "execution_count": 19
        }
      ]
    },
    {
      "cell_type": "code",
      "metadata": {
        "id": "oMFgyrjq9hfx",
        "colab_type": "code",
        "outputId": "3b3bf3aa-0659-48f5-d027-6e14c1f48ab0",
        "colab": {
          "base_uri": "https://localhost:8080/",
          "height": 34
        }
      },
      "source": [
        "targets.shape"
      ],
      "execution_count": 20,
      "outputs": [
        {
          "output_type": "execute_result",
          "data": {
            "text/plain": [
              "torch.Size([118287, 5, 258])"
            ]
          },
          "metadata": {
            "tags": []
          },
          "execution_count": 20
        }
      ]
    },
    {
      "cell_type": "code",
      "metadata": {
        "id": "jr8Qj-V-Uksf",
        "colab_type": "code",
        "outputId": "ee709e20-cbba-4c56-ba45-ee699e603bc5",
        "colab": {
          "base_uri": "https://localhost:8080/",
          "height": 34
        }
      },
      "source": [
        "img_codes[0].shape"
      ],
      "execution_count": 21,
      "outputs": [
        {
          "output_type": "execute_result",
          "data": {
            "text/plain": [
              "(2048,)"
            ]
          },
          "metadata": {
            "tags": []
          },
          "execution_count": 21
        }
      ]
    },
    {
      "cell_type": "markdown",
      "metadata": {
        "id": "R_5hPH4LtmO-",
        "colab_type": "text"
      },
      "source": [
        "## Train it"
      ]
    },
    {
      "cell_type": "markdown",
      "metadata": {
        "id": "0N0Elg2gJuyW",
        "colab_type": "text"
      },
      "source": [
        "Как обычно, пишем цикл тренировки, запоминаем лоссы для графиков и раз в Х такстов тренировки считаем val_loss. "
      ]
    },
    {
      "cell_type": "code",
      "metadata": {
        "id": "oNb5JPGvtmO_",
        "colab_type": "code",
        "outputId": "3202b454-9804-4d0b-f87c-aa628c3fb839",
        "colab": {
          "base_uri": "https://localhost:8080/",
          "height": 309
        }
      },
      "source": [
        "def train(network, img_codes, targets, optimizer, crit):\n",
        "  batch_size = 100\n",
        "  num_epochs = 10\n",
        "  total_step = len(img_codes)\n",
        "  for epoch in range(num_epochs):\n",
        "    i = 0\n",
        "    ll = 0\n",
        "    c = 0\n",
        "    while i < total_step:\n",
        "      network.zero_grad()\n",
        "      i+= batch_size\n",
        "      X_batch, y_batch = generate_batch(img_codes, targets, batch_size)\n",
        "      X_batch = X_batch.to(device)\n",
        "      y_batch = y_batch.to(device)\n",
        "      #_, X_batch, _ = inception(X_batch)\n",
        "      #outputs = network(X,batch)\n",
        "      loss = compute_loss(network, X_batch, y_batch, crit)\n",
        "      loss.backward()\n",
        "      optimizer.step()\n",
        "      ll += loss\n",
        "      #if i % 10000 == 0:\n",
        "      #  print(ll/10000)\n",
        "      #  ll = 0\n",
        "      c+=1\n",
        "    if epoch % 3 == 0:\n",
        "        print('Epoch [{}/{}], Step [{}/{}], Loss: {:.4f}'\n",
        "              .format(epoch, num_epochs, i, total_step, ll/c))\n",
        "        \n",
        "#network = CaptionNet(len(vocab.idx2word)).to(device)\n",
        "params = network.parameters()\n",
        "optimizer = torch.optim.Adam(params, lr=0.01)\n",
        "train(network, train_img_codes, train_captions, optimizer, crit)"
      ],
      "execution_count": 65,
      "outputs": [
        {
          "output_type": "stream",
          "text": [
            "/usr/local/lib/python3.6/dist-packages/torch/nn/modules/rnn.py:50: UserWarning: dropout option adds dropout after all but last recurrent layer, so non-zero dropout expects num_layers greater than 1, but got dropout=0.2 and num_layers=1  num_layers={}.format(dropout, num_layers))\n",
            "/usr/local/lib/python3.6/dist-packages/ipykernel_launcher.py:21: UserWarning: To copy construct from a tensor, it is recommended to use sourceTensor.clone().detach() or sourceTensor.clone().detach().requires_grad_(True), rather than torch.tensor(sourceTensor).Epoch [0/20], Step [106500/106458], Loss: 0.3854\n",
            "Epoch [1/20], Step [106500/106458], Loss: 0.2996\n",
            "Epoch [2/20], Step [106500/106458], Loss: 0.2454\n",
            "Epoch [3/20], Step [106500/106458], Loss: 0.2478\n"
          ],
          "name": "stdout"
        },
        {
          "output_type": "stream",
          "text": [
            "/usr/local/lib/python3.6/dist-packages/ipykernel_launcher.py:21: UserWarning: To copy construct from a tensor, it is recommended to use sourceTensor.clone().detach() or sourceTensor.clone().detach().requires_grad_(True), rather than torch.tensor(sourceTensor).\n"
          ],
          "name": "stderr"
        },
        {
          "output_type": "stream",
          "text": [
            "Epoch [0/10], Step [106500/106458], Loss: 0.2133\n",
            "Epoch [1/10], Step [106500/106458], Loss: 0.1980\n",
            "Epoch [2/10], Step [106500/106458], Loss: 0.1923\n",
            "Epoch [3/10], Step [106500/106458], Loss: 0.1888\n",
            "Epoch [4/10], Step [106500/106458], Loss: 0.1851\n",
            "Epoch [5/10], Step [106500/106458], Loss: 0.1833\n",
            "Epoch [6/10], Step [106500/106458], Loss: 0.1820\n",
            "Epoch [7/10], Step [106500/106458], Loss: 0.1807\n",
            "Epoch [8/10], Step [106500/106458], Loss: 0.1793\n",
            "Epoch [9/10], Step [106500/106458], Loss: 0.1786\n"
          ],
          "name": "stdout"
        }
      ]
    },
    {
      "cell_type": "code",
      "metadata": {
        "id": "adoAjjNQefn9",
        "colab_type": "code",
        "colab": {
          "base_uri": "https://localhost:8080/",
          "height": 224
        },
        "outputId": "85bd3839-7b40-4d82-bb55-aed341d39ecb"
      },
      "source": [
        "params = network.parameters()\n",
        "optimizer = torch.optim.Adam(params, lr=0.001)\n",
        "train(network, train_img_codes, train_captions, optimizer, crit)"
      ],
      "execution_count": 67,
      "outputs": [
        {
          "output_type": "stream",
          "text": [
            "/usr/local/lib/python3.6/dist-packages/ipykernel_launcher.py:21: UserWarning: To copy construct from a tensor, it is recommended to use sourceTensor.clone().detach() or sourceTensor.clone().detach().requires_grad_(True), rather than torch.tensor(sourceTensor).\n"
          ],
          "name": "stderr"
        },
        {
          "output_type": "stream",
          "text": [
            "Epoch [0/10], Step [106500/106458], Loss: 0.1768\n",
            "Epoch [1/10], Step [106500/106458], Loss: 0.1759\n",
            "Epoch [2/10], Step [106500/106458], Loss: 0.1752\n",
            "Epoch [3/10], Step [106500/106458], Loss: 0.1747\n",
            "Epoch [4/10], Step [106500/106458], Loss: 0.1745\n",
            "Epoch [5/10], Step [106500/106458], Loss: 0.1742\n",
            "Epoch [6/10], Step [106500/106458], Loss: 0.1744\n",
            "Epoch [7/10], Step [106500/106458], Loss: 0.1739\n",
            "Epoch [8/10], Step [106500/106458], Loss: 0.1736\n",
            "Epoch [9/10], Step [106500/106458], Loss: 0.1734\n"
          ],
          "name": "stdout"
        }
      ]
    },
    {
      "cell_type": "markdown",
      "metadata": {
        "id": "PFS9lSYntmPA",
        "colab_type": "text"
      },
      "source": [
        "## Inseption и получение результатов\n"
      ]
    },
    {
      "cell_type": "code",
      "metadata": {
        "id": "0tTxpuZtC7Sa",
        "colab_type": "code",
        "colab": {}
      },
      "source": [
        "from torchvision.models.inception import Inception3\n",
        "\n",
        "\n",
        "class BeheadedInception3(Inception3):\n",
        "    \"\"\" Like torchvision.models.inception.Inception3 but the head goes separately \"\"\"\n",
        "    \n",
        "    def forward(self, x):\n",
        "        if self.transform_input:\n",
        "            x = x.clone()\n",
        "            x[:, 0] = x[:, 0] * (0.229 / 0.5) + (0.485 - 0.5) / 0.5\n",
        "            x[:, 1] = x[:, 1] * (0.224 / 0.5) + (0.456 - 0.5) / 0.5\n",
        "            x[:, 2] = x[:, 2] * (0.225 / 0.5) + (0.406 - 0.5) / 0.5\n",
        "        else: \n",
        "            print(\"Input isn't transformed\")\n",
        "        x = self.Conv2d_1a_3x3(x)\n",
        "        x = self.Conv2d_2a_3x3(x)\n",
        "        x = self.Conv2d_2b_3x3(x)\n",
        "        x = F.max_pool2d(x, kernel_size=3, stride=2)\n",
        "        x = self.Conv2d_3b_1x1(x)\n",
        "        x = self.Conv2d_4a_3x3(x)\n",
        "        x = F.max_pool2d(x, kernel_size=3, stride=2)\n",
        "        x = self.Mixed_5b(x)\n",
        "        x = self.Mixed_5c(x)\n",
        "        x = self.Mixed_5d(x)\n",
        "        x = self.Mixed_6a(x)\n",
        "        x = self.Mixed_6b(x)\n",
        "        x = self.Mixed_6c(x)\n",
        "        x = self.Mixed_6d(x)\n",
        "        x = self.Mixed_6e(x)\n",
        "        x = self.Mixed_7a(x)\n",
        "        x = self.Mixed_7b(x)\n",
        "        x_for_attn = x = self.Mixed_7c(x)\n",
        "        # 8 x 8 x 2048\n",
        "        x = F.avg_pool2d(x, kernel_size=8)\n",
        "        # 1 x 1 x 2048\n",
        "        x_for_capt = x = x.view(x.size(0), -1)\n",
        "        # 2048\n",
        "        x = self.fc(x)\n",
        "        # 1000 (num_classes)\n",
        "        return x_for_attn, x_for_capt, x"
      ],
      "execution_count": 0,
      "outputs": []
    },
    {
      "cell_type": "code",
      "metadata": {
        "id": "-rSrnOOaC8Rx",
        "colab_type": "code",
        "outputId": "7f337339-264a-4cc6-9ddf-a1fc7a4b782f",
        "colab": {
          "base_uri": "https://localhost:8080/",
          "height": 1000
        }
      },
      "source": [
        "import os\n",
        "def beheaded_inception_v3(state_dict_path, transform_input=True):\n",
        "    model= BeheadedInception3(transform_input=transform_input)\n",
        "    state_dict = torch.load(state_dict_path)\n",
        "    model.load_state_dict(state_dict)\n",
        "    return model\n",
        "    \n",
        "device = 'cuda'\n",
        "inception = beheaded_inception_v3(os.path.join(\"gdrive/My Drive/proj/\", 'inception_v3_google-1a9a5a14.pth'))\n",
        "inception = inception.to(device)\n",
        "inception.eval()\n",
        "print(inception)"
      ],
      "execution_count": 28,
      "outputs": [
        {
          "output_type": "stream",
          "text": [
            "BeheadedInception3(\n",
            "  (Conv2d_1a_3x3): BasicConv2d(\n",
            "    (conv): Conv2d(3, 32, kernel_size=(3, 3), stride=(2, 2), bias=False)\n",
            "    (bn): BatchNorm2d(32, eps=0.001, momentum=0.1, affine=True, track_running_stats=True)\n",
            "  )\n",
            "  (Conv2d_2a_3x3): BasicConv2d(\n",
            "    (conv): Conv2d(32, 32, kernel_size=(3, 3), stride=(1, 1), bias=False)\n",
            "    (bn): BatchNorm2d(32, eps=0.001, momentum=0.1, affine=True, track_running_stats=True)\n",
            "  )\n",
            "  (Conv2d_2b_3x3): BasicConv2d(\n",
            "    (conv): Conv2d(32, 64, kernel_size=(3, 3), stride=(1, 1), padding=(1, 1), bias=False)\n",
            "    (bn): BatchNorm2d(64, eps=0.001, momentum=0.1, affine=True, track_running_stats=True)\n",
            "  )\n",
            "  (Conv2d_3b_1x1): BasicConv2d(\n",
            "    (conv): Conv2d(64, 80, kernel_size=(1, 1), stride=(1, 1), bias=False)\n",
            "    (bn): BatchNorm2d(80, eps=0.001, momentum=0.1, affine=True, track_running_stats=True)\n",
            "  )\n",
            "  (Conv2d_4a_3x3): BasicConv2d(\n",
            "    (conv): Conv2d(80, 192, kernel_size=(3, 3), stride=(1, 1), bias=False)\n",
            "    (bn): BatchNorm2d(192, eps=0.001, momentum=0.1, affine=True, track_running_stats=True)\n",
            "  )\n",
            "  (Mixed_5b): InceptionA(\n",
            "    (branch1x1): BasicConv2d(\n",
            "      (conv): Conv2d(192, 64, kernel_size=(1, 1), stride=(1, 1), bias=False)\n",
            "      (bn): BatchNorm2d(64, eps=0.001, momentum=0.1, affine=True, track_running_stats=True)\n",
            "    )\n",
            "    (branch5x5_1): BasicConv2d(\n",
            "      (conv): Conv2d(192, 48, kernel_size=(1, 1), stride=(1, 1), bias=False)\n",
            "      (bn): BatchNorm2d(48, eps=0.001, momentum=0.1, affine=True, track_running_stats=True)\n",
            "    )\n",
            "    (branch5x5_2): BasicConv2d(\n",
            "      (conv): Conv2d(48, 64, kernel_size=(5, 5), stride=(1, 1), padding=(2, 2), bias=False)\n",
            "      (bn): BatchNorm2d(64, eps=0.001, momentum=0.1, affine=True, track_running_stats=True)\n",
            "    )\n",
            "    (branch3x3dbl_1): BasicConv2d(\n",
            "      (conv): Conv2d(192, 64, kernel_size=(1, 1), stride=(1, 1), bias=False)\n",
            "      (bn): BatchNorm2d(64, eps=0.001, momentum=0.1, affine=True, track_running_stats=True)\n",
            "    )\n",
            "    (branch3x3dbl_2): BasicConv2d(\n",
            "      (conv): Conv2d(64, 96, kernel_size=(3, 3), stride=(1, 1), padding=(1, 1), bias=False)\n",
            "      (bn): BatchNorm2d(96, eps=0.001, momentum=0.1, affine=True, track_running_stats=True)\n",
            "    )\n",
            "    (branch3x3dbl_3): BasicConv2d(\n",
            "      (conv): Conv2d(96, 96, kernel_size=(3, 3), stride=(1, 1), padding=(1, 1), bias=False)\n",
            "      (bn): BatchNorm2d(96, eps=0.001, momentum=0.1, affine=True, track_running_stats=True)\n",
            "    )\n",
            "    (branch_pool): BasicConv2d(\n",
            "      (conv): Conv2d(192, 32, kernel_size=(1, 1), stride=(1, 1), bias=False)\n",
            "      (bn): BatchNorm2d(32, eps=0.001, momentum=0.1, affine=True, track_running_stats=True)\n",
            "    )\n",
            "  )\n",
            "  (Mixed_5c): InceptionA(\n",
            "    (branch1x1): BasicConv2d(\n",
            "      (conv): Conv2d(256, 64, kernel_size=(1, 1), stride=(1, 1), bias=False)\n",
            "      (bn): BatchNorm2d(64, eps=0.001, momentum=0.1, affine=True, track_running_stats=True)\n",
            "    )\n",
            "    (branch5x5_1): BasicConv2d(\n",
            "      (conv): Conv2d(256, 48, kernel_size=(1, 1), stride=(1, 1), bias=False)\n",
            "      (bn): BatchNorm2d(48, eps=0.001, momentum=0.1, affine=True, track_running_stats=True)\n",
            "    )\n",
            "    (branch5x5_2): BasicConv2d(\n",
            "      (conv): Conv2d(48, 64, kernel_size=(5, 5), stride=(1, 1), padding=(2, 2), bias=False)\n",
            "      (bn): BatchNorm2d(64, eps=0.001, momentum=0.1, affine=True, track_running_stats=True)\n",
            "    )\n",
            "    (branch3x3dbl_1): BasicConv2d(\n",
            "      (conv): Conv2d(256, 64, kernel_size=(1, 1), stride=(1, 1), bias=False)\n",
            "      (bn): BatchNorm2d(64, eps=0.001, momentum=0.1, affine=True, track_running_stats=True)\n",
            "    )\n",
            "    (branch3x3dbl_2): BasicConv2d(\n",
            "      (conv): Conv2d(64, 96, kernel_size=(3, 3), stride=(1, 1), padding=(1, 1), bias=False)\n",
            "      (bn): BatchNorm2d(96, eps=0.001, momentum=0.1, affine=True, track_running_stats=True)\n",
            "    )\n",
            "    (branch3x3dbl_3): BasicConv2d(\n",
            "      (conv): Conv2d(96, 96, kernel_size=(3, 3), stride=(1, 1), padding=(1, 1), bias=False)\n",
            "      (bn): BatchNorm2d(96, eps=0.001, momentum=0.1, affine=True, track_running_stats=True)\n",
            "    )\n",
            "    (branch_pool): BasicConv2d(\n",
            "      (conv): Conv2d(256, 64, kernel_size=(1, 1), stride=(1, 1), bias=False)\n",
            "      (bn): BatchNorm2d(64, eps=0.001, momentum=0.1, affine=True, track_running_stats=True)\n",
            "    )\n",
            "  )\n",
            "  (Mixed_5d): InceptionA(\n",
            "    (branch1x1): BasicConv2d(\n",
            "      (conv): Conv2d(288, 64, kernel_size=(1, 1), stride=(1, 1), bias=False)\n",
            "      (bn): BatchNorm2d(64, eps=0.001, momentum=0.1, affine=True, track_running_stats=True)\n",
            "    )\n",
            "    (branch5x5_1): BasicConv2d(\n",
            "      (conv): Conv2d(288, 48, kernel_size=(1, 1), stride=(1, 1), bias=False)\n",
            "      (bn): BatchNorm2d(48, eps=0.001, momentum=0.1, affine=True, track_running_stats=True)\n",
            "    )\n",
            "    (branch5x5_2): BasicConv2d(\n",
            "      (conv): Conv2d(48, 64, kernel_size=(5, 5), stride=(1, 1), padding=(2, 2), bias=False)\n",
            "      (bn): BatchNorm2d(64, eps=0.001, momentum=0.1, affine=True, track_running_stats=True)\n",
            "    )\n",
            "    (branch3x3dbl_1): BasicConv2d(\n",
            "      (conv): Conv2d(288, 64, kernel_size=(1, 1), stride=(1, 1), bias=False)\n",
            "      (bn): BatchNorm2d(64, eps=0.001, momentum=0.1, affine=True, track_running_stats=True)\n",
            "    )\n",
            "    (branch3x3dbl_2): BasicConv2d(\n",
            "      (conv): Conv2d(64, 96, kernel_size=(3, 3), stride=(1, 1), padding=(1, 1), bias=False)\n",
            "      (bn): BatchNorm2d(96, eps=0.001, momentum=0.1, affine=True, track_running_stats=True)\n",
            "    )\n",
            "    (branch3x3dbl_3): BasicConv2d(\n",
            "      (conv): Conv2d(96, 96, kernel_size=(3, 3), stride=(1, 1), padding=(1, 1), bias=False)\n",
            "      (bn): BatchNorm2d(96, eps=0.001, momentum=0.1, affine=True, track_running_stats=True)\n",
            "    )\n",
            "    (branch_pool): BasicConv2d(\n",
            "      (conv): Conv2d(288, 64, kernel_size=(1, 1), stride=(1, 1), bias=False)\n",
            "      (bn): BatchNorm2d(64, eps=0.001, momentum=0.1, affine=True, track_running_stats=True)\n",
            "    )\n",
            "  )\n",
            "  (Mixed_6a): InceptionB(\n",
            "    (branch3x3): BasicConv2d(\n",
            "      (conv): Conv2d(288, 384, kernel_size=(3, 3), stride=(2, 2), bias=False)\n",
            "      (bn): BatchNorm2d(384, eps=0.001, momentum=0.1, affine=True, track_running_stats=True)\n",
            "    )\n",
            "    (branch3x3dbl_1): BasicConv2d(\n",
            "      (conv): Conv2d(288, 64, kernel_size=(1, 1), stride=(1, 1), bias=False)\n",
            "      (bn): BatchNorm2d(64, eps=0.001, momentum=0.1, affine=True, track_running_stats=True)\n",
            "    )\n",
            "    (branch3x3dbl_2): BasicConv2d(\n",
            "      (conv): Conv2d(64, 96, kernel_size=(3, 3), stride=(1, 1), padding=(1, 1), bias=False)\n",
            "      (bn): BatchNorm2d(96, eps=0.001, momentum=0.1, affine=True, track_running_stats=True)\n",
            "    )\n",
            "    (branch3x3dbl_3): BasicConv2d(\n",
            "      (conv): Conv2d(96, 96, kernel_size=(3, 3), stride=(2, 2), bias=False)\n",
            "      (bn): BatchNorm2d(96, eps=0.001, momentum=0.1, affine=True, track_running_stats=True)\n",
            "    )\n",
            "  )\n",
            "  (Mixed_6b): InceptionC(\n",
            "    (branch1x1): BasicConv2d(\n",
            "      (conv): Conv2d(768, 192, kernel_size=(1, 1), stride=(1, 1), bias=False)\n",
            "      (bn): BatchNorm2d(192, eps=0.001, momentum=0.1, affine=True, track_running_stats=True)\n",
            "    )\n",
            "    (branch7x7_1): BasicConv2d(\n",
            "      (conv): Conv2d(768, 128, kernel_size=(1, 1), stride=(1, 1), bias=False)\n",
            "      (bn): BatchNorm2d(128, eps=0.001, momentum=0.1, affine=True, track_running_stats=True)\n",
            "    )\n",
            "    (branch7x7_2): BasicConv2d(\n",
            "      (conv): Conv2d(128, 128, kernel_size=(1, 7), stride=(1, 1), padding=(0, 3), bias=False)\n",
            "      (bn): BatchNorm2d(128, eps=0.001, momentum=0.1, affine=True, track_running_stats=True)\n",
            "    )\n",
            "    (branch7x7_3): BasicConv2d(\n",
            "      (conv): Conv2d(128, 192, kernel_size=(7, 1), stride=(1, 1), padding=(3, 0), bias=False)\n",
            "      (bn): BatchNorm2d(192, eps=0.001, momentum=0.1, affine=True, track_running_stats=True)\n",
            "    )\n",
            "    (branch7x7dbl_1): BasicConv2d(\n",
            "      (conv): Conv2d(768, 128, kernel_size=(1, 1), stride=(1, 1), bias=False)\n",
            "      (bn): BatchNorm2d(128, eps=0.001, momentum=0.1, affine=True, track_running_stats=True)\n",
            "    )\n",
            "    (branch7x7dbl_2): BasicConv2d(\n",
            "      (conv): Conv2d(128, 128, kernel_size=(7, 1), stride=(1, 1), padding=(3, 0), bias=False)\n",
            "      (bn): BatchNorm2d(128, eps=0.001, momentum=0.1, affine=True, track_running_stats=True)\n",
            "    )\n",
            "    (branch7x7dbl_3): BasicConv2d(\n",
            "      (conv): Conv2d(128, 128, kernel_size=(1, 7), stride=(1, 1), padding=(0, 3), bias=False)\n",
            "      (bn): BatchNorm2d(128, eps=0.001, momentum=0.1, affine=True, track_running_stats=True)\n",
            "    )\n",
            "    (branch7x7dbl_4): BasicConv2d(\n",
            "      (conv): Conv2d(128, 128, kernel_size=(7, 1), stride=(1, 1), padding=(3, 0), bias=False)\n",
            "      (bn): BatchNorm2d(128, eps=0.001, momentum=0.1, affine=True, track_running_stats=True)\n",
            "    )\n",
            "    (branch7x7dbl_5): BasicConv2d(\n",
            "      (conv): Conv2d(128, 192, kernel_size=(1, 7), stride=(1, 1), padding=(0, 3), bias=False)\n",
            "      (bn): BatchNorm2d(192, eps=0.001, momentum=0.1, affine=True, track_running_stats=True)\n",
            "    )\n",
            "    (branch_pool): BasicConv2d(\n",
            "      (conv): Conv2d(768, 192, kernel_size=(1, 1), stride=(1, 1), bias=False)\n",
            "      (bn): BatchNorm2d(192, eps=0.001, momentum=0.1, affine=True, track_running_stats=True)\n",
            "    )\n",
            "  )\n",
            "  (Mixed_6c): InceptionC(\n",
            "    (branch1x1): BasicConv2d(\n",
            "      (conv): Conv2d(768, 192, kernel_size=(1, 1), stride=(1, 1), bias=False)\n",
            "      (bn): BatchNorm2d(192, eps=0.001, momentum=0.1, affine=True, track_running_stats=True)\n",
            "    )\n",
            "    (branch7x7_1): BasicConv2d(\n",
            "      (conv): Conv2d(768, 160, kernel_size=(1, 1), stride=(1, 1), bias=False)\n",
            "      (bn): BatchNorm2d(160, eps=0.001, momentum=0.1, affine=True, track_running_stats=True)\n",
            "    )\n",
            "    (branch7x7_2): BasicConv2d(\n",
            "      (conv): Conv2d(160, 160, kernel_size=(1, 7), stride=(1, 1), padding=(0, 3), bias=False)\n",
            "      (bn): BatchNorm2d(160, eps=0.001, momentum=0.1, affine=True, track_running_stats=True)\n",
            "    )\n",
            "    (branch7x7_3): BasicConv2d(\n",
            "      (conv): Conv2d(160, 192, kernel_size=(7, 1), stride=(1, 1), padding=(3, 0), bias=False)\n",
            "      (bn): BatchNorm2d(192, eps=0.001, momentum=0.1, affine=True, track_running_stats=True)\n",
            "    )\n",
            "    (branch7x7dbl_1): BasicConv2d(\n",
            "      (conv): Conv2d(768, 160, kernel_size=(1, 1), stride=(1, 1), bias=False)\n",
            "      (bn): BatchNorm2d(160, eps=0.001, momentum=0.1, affine=True, track_running_stats=True)\n",
            "    )\n",
            "    (branch7x7dbl_2): BasicConv2d(\n",
            "      (conv): Conv2d(160, 160, kernel_size=(7, 1), stride=(1, 1), padding=(3, 0), bias=False)\n",
            "      (bn): BatchNorm2d(160, eps=0.001, momentum=0.1, affine=True, track_running_stats=True)\n",
            "    )\n",
            "    (branch7x7dbl_3): BasicConv2d(\n",
            "      (conv): Conv2d(160, 160, kernel_size=(1, 7), stride=(1, 1), padding=(0, 3), bias=False)\n",
            "      (bn): BatchNorm2d(160, eps=0.001, momentum=0.1, affine=True, track_running_stats=True)\n",
            "    )\n",
            "    (branch7x7dbl_4): BasicConv2d(\n",
            "      (conv): Conv2d(160, 160, kernel_size=(7, 1), stride=(1, 1), padding=(3, 0), bias=False)\n",
            "      (bn): BatchNorm2d(160, eps=0.001, momentum=0.1, affine=True, track_running_stats=True)\n",
            "    )\n",
            "    (branch7x7dbl_5): BasicConv2d(\n",
            "      (conv): Conv2d(160, 192, kernel_size=(1, 7), stride=(1, 1), padding=(0, 3), bias=False)\n",
            "      (bn): BatchNorm2d(192, eps=0.001, momentum=0.1, affine=True, track_running_stats=True)\n",
            "    )\n",
            "    (branch_pool): BasicConv2d(\n",
            "      (conv): Conv2d(768, 192, kernel_size=(1, 1), stride=(1, 1), bias=False)\n",
            "      (bn): BatchNorm2d(192, eps=0.001, momentum=0.1, affine=True, track_running_stats=True)\n",
            "    )\n",
            "  )\n",
            "  (Mixed_6d): InceptionC(\n",
            "    (branch1x1): BasicConv2d(\n",
            "      (conv): Conv2d(768, 192, kernel_size=(1, 1), stride=(1, 1), bias=False)\n",
            "      (bn): BatchNorm2d(192, eps=0.001, momentum=0.1, affine=True, track_running_stats=True)\n",
            "    )\n",
            "    (branch7x7_1): BasicConv2d(\n",
            "      (conv): Conv2d(768, 160, kernel_size=(1, 1), stride=(1, 1), bias=False)\n",
            "      (bn): BatchNorm2d(160, eps=0.001, momentum=0.1, affine=True, track_running_stats=True)\n",
            "    )\n",
            "    (branch7x7_2): BasicConv2d(\n",
            "      (conv): Conv2d(160, 160, kernel_size=(1, 7), stride=(1, 1), padding=(0, 3), bias=False)\n",
            "      (bn): BatchNorm2d(160, eps=0.001, momentum=0.1, affine=True, track_running_stats=True)\n",
            "    )\n",
            "    (branch7x7_3): BasicConv2d(\n",
            "      (conv): Conv2d(160, 192, kernel_size=(7, 1), stride=(1, 1), padding=(3, 0), bias=False)\n",
            "      (bn): BatchNorm2d(192, eps=0.001, momentum=0.1, affine=True, track_running_stats=True)\n",
            "    )\n",
            "    (branch7x7dbl_1): BasicConv2d(\n",
            "      (conv): Conv2d(768, 160, kernel_size=(1, 1), stride=(1, 1), bias=False)\n",
            "      (bn): BatchNorm2d(160, eps=0.001, momentum=0.1, affine=True, track_running_stats=True)\n",
            "    )\n",
            "    (branch7x7dbl_2): BasicConv2d(\n",
            "      (conv): Conv2d(160, 160, kernel_size=(7, 1), stride=(1, 1), padding=(3, 0), bias=False)\n",
            "      (bn): BatchNorm2d(160, eps=0.001, momentum=0.1, affine=True, track_running_stats=True)\n",
            "    )\n",
            "    (branch7x7dbl_3): BasicConv2d(\n",
            "      (conv): Conv2d(160, 160, kernel_size=(1, 7), stride=(1, 1), padding=(0, 3), bias=False)\n",
            "      (bn): BatchNorm2d(160, eps=0.001, momentum=0.1, affine=True, track_running_stats=True)\n",
            "    )\n",
            "    (branch7x7dbl_4): BasicConv2d(\n",
            "      (conv): Conv2d(160, 160, kernel_size=(7, 1), stride=(1, 1), padding=(3, 0), bias=False)\n",
            "      (bn): BatchNorm2d(160, eps=0.001, momentum=0.1, affine=True, track_running_stats=True)\n",
            "    )\n",
            "    (branch7x7dbl_5): BasicConv2d(\n",
            "      (conv): Conv2d(160, 192, kernel_size=(1, 7), stride=(1, 1), padding=(0, 3), bias=False)\n",
            "      (bn): BatchNorm2d(192, eps=0.001, momentum=0.1, affine=True, track_running_stats=True)\n",
            "    )\n",
            "    (branch_pool): BasicConv2d(\n",
            "      (conv): Conv2d(768, 192, kernel_size=(1, 1), stride=(1, 1), bias=False)\n",
            "      (bn): BatchNorm2d(192, eps=0.001, momentum=0.1, affine=True, track_running_stats=True)\n",
            "    )\n",
            "  )\n",
            "  (Mixed_6e): InceptionC(\n",
            "    (branch1x1): BasicConv2d(\n",
            "      (conv): Conv2d(768, 192, kernel_size=(1, 1), stride=(1, 1), bias=False)\n",
            "      (bn): BatchNorm2d(192, eps=0.001, momentum=0.1, affine=True, track_running_stats=True)\n",
            "    )\n",
            "    (branch7x7_1): BasicConv2d(\n",
            "      (conv): Conv2d(768, 192, kernel_size=(1, 1), stride=(1, 1), bias=False)\n",
            "      (bn): BatchNorm2d(192, eps=0.001, momentum=0.1, affine=True, track_running_stats=True)\n",
            "    )\n",
            "    (branch7x7_2): BasicConv2d(\n",
            "      (conv): Conv2d(192, 192, kernel_size=(1, 7), stride=(1, 1), padding=(0, 3), bias=False)\n",
            "      (bn): BatchNorm2d(192, eps=0.001, momentum=0.1, affine=True, track_running_stats=True)\n",
            "    )\n",
            "    (branch7x7_3): BasicConv2d(\n",
            "      (conv): Conv2d(192, 192, kernel_size=(7, 1), stride=(1, 1), padding=(3, 0), bias=False)\n",
            "      (bn): BatchNorm2d(192, eps=0.001, momentum=0.1, affine=True, track_running_stats=True)\n",
            "    )\n",
            "    (branch7x7dbl_1): BasicConv2d(\n",
            "      (conv): Conv2d(768, 192, kernel_size=(1, 1), stride=(1, 1), bias=False)\n",
            "      (bn): BatchNorm2d(192, eps=0.001, momentum=0.1, affine=True, track_running_stats=True)\n",
            "    )\n",
            "    (branch7x7dbl_2): BasicConv2d(\n",
            "      (conv): Conv2d(192, 192, kernel_size=(7, 1), stride=(1, 1), padding=(3, 0), bias=False)\n",
            "      (bn): BatchNorm2d(192, eps=0.001, momentum=0.1, affine=True, track_running_stats=True)\n",
            "    )\n",
            "    (branch7x7dbl_3): BasicConv2d(\n",
            "      (conv): Conv2d(192, 192, kernel_size=(1, 7), stride=(1, 1), padding=(0, 3), bias=False)\n",
            "      (bn): BatchNorm2d(192, eps=0.001, momentum=0.1, affine=True, track_running_stats=True)\n",
            "    )\n",
            "    (branch7x7dbl_4): BasicConv2d(\n",
            "      (conv): Conv2d(192, 192, kernel_size=(7, 1), stride=(1, 1), padding=(3, 0), bias=False)\n",
            "      (bn): BatchNorm2d(192, eps=0.001, momentum=0.1, affine=True, track_running_stats=True)\n",
            "    )\n",
            "    (branch7x7dbl_5): BasicConv2d(\n",
            "      (conv): Conv2d(192, 192, kernel_size=(1, 7), stride=(1, 1), padding=(0, 3), bias=False)\n",
            "      (bn): BatchNorm2d(192, eps=0.001, momentum=0.1, affine=True, track_running_stats=True)\n",
            "    )\n",
            "    (branch_pool): BasicConv2d(\n",
            "      (conv): Conv2d(768, 192, kernel_size=(1, 1), stride=(1, 1), bias=False)\n",
            "      (bn): BatchNorm2d(192, eps=0.001, momentum=0.1, affine=True, track_running_stats=True)\n",
            "    )\n",
            "  )\n",
            "  (AuxLogits): InceptionAux(\n",
            "    (conv0): BasicConv2d(\n",
            "      (conv): Conv2d(768, 128, kernel_size=(1, 1), stride=(1, 1), bias=False)\n",
            "      (bn): BatchNorm2d(128, eps=0.001, momentum=0.1, affine=True, track_running_stats=True)\n",
            "    )\n",
            "    (conv1): BasicConv2d(\n",
            "      (conv): Conv2d(128, 768, kernel_size=(5, 5), stride=(1, 1), bias=False)\n",
            "      (bn): BatchNorm2d(768, eps=0.001, momentum=0.1, affine=True, track_running_stats=True)\n",
            "    )\n",
            "    (fc): Linear(in_features=768, out_features=1000, bias=True)\n",
            "  )\n",
            "  (Mixed_7a): InceptionD(\n",
            "    (branch3x3_1): BasicConv2d(\n",
            "      (conv): Conv2d(768, 192, kernel_size=(1, 1), stride=(1, 1), bias=False)\n",
            "      (bn): BatchNorm2d(192, eps=0.001, momentum=0.1, affine=True, track_running_stats=True)\n",
            "    )\n",
            "    (branch3x3_2): BasicConv2d(\n",
            "      (conv): Conv2d(192, 320, kernel_size=(3, 3), stride=(2, 2), bias=False)\n",
            "      (bn): BatchNorm2d(320, eps=0.001, momentum=0.1, affine=True, track_running_stats=True)\n",
            "    )\n",
            "    (branch7x7x3_1): BasicConv2d(\n",
            "      (conv): Conv2d(768, 192, kernel_size=(1, 1), stride=(1, 1), bias=False)\n",
            "      (bn): BatchNorm2d(192, eps=0.001, momentum=0.1, affine=True, track_running_stats=True)\n",
            "    )\n",
            "    (branch7x7x3_2): BasicConv2d(\n",
            "      (conv): Conv2d(192, 192, kernel_size=(1, 7), stride=(1, 1), padding=(0, 3), bias=False)\n",
            "      (bn): BatchNorm2d(192, eps=0.001, momentum=0.1, affine=True, track_running_stats=True)\n",
            "    )\n",
            "    (branch7x7x3_3): BasicConv2d(\n",
            "      (conv): Conv2d(192, 192, kernel_size=(7, 1), stride=(1, 1), padding=(3, 0), bias=False)\n",
            "      (bn): BatchNorm2d(192, eps=0.001, momentum=0.1, affine=True, track_running_stats=True)\n",
            "    )\n",
            "    (branch7x7x3_4): BasicConv2d(\n",
            "      (conv): Conv2d(192, 192, kernel_size=(3, 3), stride=(2, 2), bias=False)\n",
            "      (bn): BatchNorm2d(192, eps=0.001, momentum=0.1, affine=True, track_running_stats=True)\n",
            "    )\n",
            "  )\n",
            "  (Mixed_7b): InceptionE(\n",
            "    (branch1x1): BasicConv2d(\n",
            "      (conv): Conv2d(1280, 320, kernel_size=(1, 1), stride=(1, 1), bias=False)\n",
            "      (bn): BatchNorm2d(320, eps=0.001, momentum=0.1, affine=True, track_running_stats=True)\n",
            "    )\n",
            "    (branch3x3_1): BasicConv2d(\n",
            "      (conv): Conv2d(1280, 384, kernel_size=(1, 1), stride=(1, 1), bias=False)\n",
            "      (bn): BatchNorm2d(384, eps=0.001, momentum=0.1, affine=True, track_running_stats=True)\n",
            "    )\n",
            "    (branch3x3_2a): BasicConv2d(\n",
            "      (conv): Conv2d(384, 384, kernel_size=(1, 3), stride=(1, 1), padding=(0, 1), bias=False)\n",
            "      (bn): BatchNorm2d(384, eps=0.001, momentum=0.1, affine=True, track_running_stats=True)\n",
            "    )\n",
            "    (branch3x3_2b): BasicConv2d(\n",
            "      (conv): Conv2d(384, 384, kernel_size=(3, 1), stride=(1, 1), padding=(1, 0), bias=False)\n",
            "      (bn): BatchNorm2d(384, eps=0.001, momentum=0.1, affine=True, track_running_stats=True)\n",
            "    )\n",
            "    (branch3x3dbl_1): BasicConv2d(\n",
            "      (conv): Conv2d(1280, 448, kernel_size=(1, 1), stride=(1, 1), bias=False)\n",
            "      (bn): BatchNorm2d(448, eps=0.001, momentum=0.1, affine=True, track_running_stats=True)\n",
            "    )\n",
            "    (branch3x3dbl_2): BasicConv2d(\n",
            "      (conv): Conv2d(448, 384, kernel_size=(3, 3), stride=(1, 1), padding=(1, 1), bias=False)\n",
            "      (bn): BatchNorm2d(384, eps=0.001, momentum=0.1, affine=True, track_running_stats=True)\n",
            "    )\n",
            "    (branch3x3dbl_3a): BasicConv2d(\n",
            "      (conv): Conv2d(384, 384, kernel_size=(1, 3), stride=(1, 1), padding=(0, 1), bias=False)\n",
            "      (bn): BatchNorm2d(384, eps=0.001, momentum=0.1, affine=True, track_running_stats=True)\n",
            "    )\n",
            "    (branch3x3dbl_3b): BasicConv2d(\n",
            "      (conv): Conv2d(384, 384, kernel_size=(3, 1), stride=(1, 1), padding=(1, 0), bias=False)\n",
            "      (bn): BatchNorm2d(384, eps=0.001, momentum=0.1, affine=True, track_running_stats=True)\n",
            "    )\n",
            "    (branch_pool): BasicConv2d(\n",
            "      (conv): Conv2d(1280, 192, kernel_size=(1, 1), stride=(1, 1), bias=False)\n",
            "      (bn): BatchNorm2d(192, eps=0.001, momentum=0.1, affine=True, track_running_stats=True)\n",
            "    )\n",
            "  )\n",
            "  (Mixed_7c): InceptionE(\n",
            "    (branch1x1): BasicConv2d(\n",
            "      (conv): Conv2d(2048, 320, kernel_size=(1, 1), stride=(1, 1), bias=False)\n",
            "      (bn): BatchNorm2d(320, eps=0.001, momentum=0.1, affine=True, track_running_stats=True)\n",
            "    )\n",
            "    (branch3x3_1): BasicConv2d(\n",
            "      (conv): Conv2d(2048, 384, kernel_size=(1, 1), stride=(1, 1), bias=False)\n",
            "      (bn): BatchNorm2d(384, eps=0.001, momentum=0.1, affine=True, track_running_stats=True)\n",
            "    )\n",
            "    (branch3x3_2a): BasicConv2d(\n",
            "      (conv): Conv2d(384, 384, kernel_size=(1, 3), stride=(1, 1), padding=(0, 1), bias=False)\n",
            "      (bn): BatchNorm2d(384, eps=0.001, momentum=0.1, affine=True, track_running_stats=True)\n",
            "    )\n",
            "    (branch3x3_2b): BasicConv2d(\n",
            "      (conv): Conv2d(384, 384, kernel_size=(3, 1), stride=(1, 1), padding=(1, 0), bias=False)\n",
            "      (bn): BatchNorm2d(384, eps=0.001, momentum=0.1, affine=True, track_running_stats=True)\n",
            "    )\n",
            "    (branch3x3dbl_1): BasicConv2d(\n",
            "      (conv): Conv2d(2048, 448, kernel_size=(1, 1), stride=(1, 1), bias=False)\n",
            "      (bn): BatchNorm2d(448, eps=0.001, momentum=0.1, affine=True, track_running_stats=True)\n",
            "    )\n",
            "    (branch3x3dbl_2): BasicConv2d(\n",
            "      (conv): Conv2d(448, 384, kernel_size=(3, 3), stride=(1, 1), padding=(1, 1), bias=False)\n",
            "      (bn): BatchNorm2d(384, eps=0.001, momentum=0.1, affine=True, track_running_stats=True)\n",
            "    )\n",
            "    (branch3x3dbl_3a): BasicConv2d(\n",
            "      (conv): Conv2d(384, 384, kernel_size=(1, 3), stride=(1, 1), padding=(0, 1), bias=False)\n",
            "      (bn): BatchNorm2d(384, eps=0.001, momentum=0.1, affine=True, track_running_stats=True)\n",
            "    )\n",
            "    (branch3x3dbl_3b): BasicConv2d(\n",
            "      (conv): Conv2d(384, 384, kernel_size=(3, 1), stride=(1, 1), padding=(1, 0), bias=False)\n",
            "      (bn): BatchNorm2d(384, eps=0.001, momentum=0.1, affine=True, track_running_stats=True)\n",
            "    )\n",
            "    (branch_pool): BasicConv2d(\n",
            "      (conv): Conv2d(2048, 192, kernel_size=(1, 1), stride=(1, 1), bias=False)\n",
            "      (bn): BatchNorm2d(192, eps=0.001, momentum=0.1, affine=True, track_running_stats=True)\n",
            "    )\n",
            "  )\n",
            "  (fc): Linear(in_features=2048, out_features=1000, bias=True)\n",
            ")\n"
          ],
          "name": "stdout"
        }
      ]
    },
    {
      "cell_type": "code",
      "metadata": {
        "id": "T3BZ7nEstmPB",
        "colab_type": "code",
        "colab": {}
      },
      "source": [
        "# загружаем inseption\n",
        "#from beheaded_inception3 import beheaded_inception_v3\n",
        "#inception = beheaded_inception_v3().train(False)"
      ],
      "execution_count": 0,
      "outputs": []
    },
    {
      "cell_type": "code",
      "metadata": {
        "id": "CC4CsGxYT3qU",
        "colab_type": "code",
        "colab": {}
      },
      "source": [
        ""
      ],
      "execution_count": 0,
      "outputs": []
    },
    {
      "cell_type": "markdown",
      "metadata": {
        "id": "knCv0zLctmPC",
        "colab_type": "text"
      },
      "source": [
        "### Сгенерируем описание"
      ]
    },
    {
      "cell_type": "code",
      "metadata": {
        "id": "ExrG8fn3tmPC",
        "colab_type": "code",
        "colab": {}
      },
      "source": [
        "def generate_caption(image, caption_prefix=1, \n",
        "                     t=1, sample=False, max_len=100):\n",
        "    assert isinstance(image, np.ndarray) and np.max(image) <= 1\\\n",
        "           and np.min(image) >=0 and image.shape[-1] == 3\n",
        "    \n",
        "    with torch.no_grad():\n",
        "        image = torch.tensor(image.transpose([2, 0, 1]), dtype=torch.float32)\n",
        "\n",
        "        vectors_8x8, vectors_neck, logits = inception(image[None].to(\"cuda\"))\n",
        "        caption_prefix = [caption_prefix]\n",
        "\n",
        "        for _ in range(max_len):\n",
        "            # представить в виде матрицы\n",
        "            prefix_ix = caption_prefix\n",
        "            prefix_ix = torch.tensor(prefix_ix, dtype=torch.int64).unsqueeze(0)\n",
        "            # получаем логиты из RNN-ки\n",
        "            next_word_logits = network.forward(vectors_neck, prefix_ix.to(\"cuda\"))[0, -1]\n",
        "            # переводим их в вероятности\n",
        "            next_word_probs = F.softmax(next_word_logits, dim=-1).cpu().data.numpy()\n",
        "\n",
        "            assert len(next_word_probs.shape) == 1, 'probs must be one-dimensional'\n",
        "            next_word_probs = next_word_probs ** t / np.sum(next_word_probs ** t) # опционально\n",
        "            if sample:\n",
        "                next_word = np.random.choice(len(vocab), p=next_word_probs) \n",
        "            else:\n",
        "                next_word = np.argmax(next_word_probs)\n",
        "                #next_word = vocab.idx2word[np.argmax(next_word_probs)]\n",
        "\n",
        "            caption_prefix.append(next_word)\n",
        "\n",
        "            # RNN-ка сгенерила символ конца предложения, расходимся\n",
        "            if next_word == 2:\n",
        "                break\n",
        "    print(caption_prefix)\n",
        "    return caption_prefix"
      ],
      "execution_count": 0,
      "outputs": []
    },
    {
      "cell_type": "markdown",
      "metadata": {
        "id": "U09ROGRbtmPD",
        "colab_type": "text"
      },
      "source": [
        "### Скачаем пару картинок, чтобы проверить качество:"
      ]
    },
    {
      "cell_type": "code",
      "metadata": {
        "id": "UHF3uRtotmPD",
        "colab_type": "code",
        "outputId": "b23357a6-da84-4037-930e-14d4dee47a19",
        "colab": {
          "base_uri": "https://localhost:8080/",
          "height": 204
        }
      },
      "source": [
        "from matplotlib import pyplot as plt\n",
        "#from scipy.misc import imresize\n",
        "from skimage.transform import resize \n",
        "%matplotlib inline\n",
        "\n",
        "#sample image\n",
        "!wget https://pixel.nymag.com/imgs/daily/selectall/2018/02/12/12-tony-hawk.w710.h473.jpg -O img.jpg\n",
        "img = plt.imread('img.jpg')\n",
        "img = resize(img, (299, 299)).astype('float32') / 255."
      ],
      "execution_count": 45,
      "outputs": [
        {
          "output_type": "stream",
          "text": [
            "--2020-02-19 10:03:02--  https://pixel.nymag.com/imgs/daily/selectall/2018/02/12/12-tony-hawk.w710.h473.jpg\n",
            "Resolving pixel.nymag.com (pixel.nymag.com)... 151.101.40.70\n",
            "Connecting to pixel.nymag.com (pixel.nymag.com)|151.101.40.70|:443... connected.\n",
            "HTTP request sent, awaiting response... 200 OK\n",
            "Length: 107928 (105K) [image/jpeg]\n",
            "Saving to: ‘img.jpg’\n",
            "\n",
            "\rimg.jpg               0%[                    ]       0  --.-KB/s               \rimg.jpg              37%[======>             ]  39.46K   117KB/s               \rimg.jpg             100%[===================>] 105.40K   208KB/s    in 0.5s    \n",
            "\n",
            "2020-02-19 10:03:04 (208 KB/s) - ‘img.jpg’ saved [107928/107928]\n",
            "\n"
          ],
          "name": "stdout"
        }
      ]
    },
    {
      "cell_type": "code",
      "metadata": {
        "id": "Ok9JVbZatmPG",
        "colab_type": "code",
        "outputId": "e7aa8454-ce3c-493b-8ad4-1da48ea93847",
        "colab": {
          "base_uri": "https://localhost:8080/",
          "height": 286
        }
      },
      "source": [
        "plt.imshow(img)"
      ],
      "execution_count": 46,
      "outputs": [
        {
          "output_type": "execute_result",
          "data": {
            "text/plain": [
              "<matplotlib.image.AxesImage at 0x7f69c93124a8>"
            ]
          },
          "metadata": {
            "tags": []
          },
          "execution_count": 46
        },
        {
          "output_type": "display_data",
          "data": {
            "image/png": "[encoded data removed]",
            "text/plain": [
              "<Figure size 432x288 with 1 Axes>"
            ]
          },
          "metadata": {
            "tags": []
          }
        }
      ]
    },
    {
      "cell_type": "code",
      "metadata": {
        "id": "RZlGtMjVtmPI",
        "colab_type": "code",
        "colab": {}
      },
      "source": [
        "for i in range(10):\n",
        "    print(' '.join(generate_caption(img, t=5.)[1:-1]))"
      ],
      "execution_count": 0,
      "outputs": []
    },
    {
      "cell_type": "code",
      "metadata": {
        "id": "Hu3SPI60tmPM",
        "colab_type": "code",
        "outputId": "201137e0-d8cc-46f4-8b45-d14625d6c366",
        "colab": {}
      },
      "source": [
        "!wget http://ccanimalclinic.com/wp-content/uploads/2017/07/Cat-and-dog-1.jpg -O img.jpg\n",
        "img = plt.imread('img.jpg')\n",
        "img = imresize(img, (299, 299)).astype('float32') / 255.\n",
        "\n",
        "plt.imshow(img)\n",
        "plt.show()\n",
        "\n",
        "for i in range(10):\n",
        "    print(' '.join(generate_caption(img, t=5.)[1:-1]))"
      ],
      "execution_count": 0,
      "outputs": [
        {
          "output_type": "stream",
          "text": [
            "--2018-03-18 04:13:41--  http://ccanimalclinic.com/wp-content/uploads/2017/07/Cat-and-dog-1.jpg\n",
            "Resolving ccanimalclinic.com (ccanimalclinic.com)... 64.207.177.234\n",
            "Connecting to ccanimalclinic.com (ccanimalclinic.com)|64.207.177.234|:80... connected.\n",
            "HTTP request sent, awaiting response... 200 OK\n",
            "Length: 106870 (104K) [image/jpeg]\n",
            "Saving to: ‘data/img.jpg’\n",
            "\n",
            "data/img.jpg        100%[===================>] 104,37K   194KB/s    in 0,5s    \n",
            "\n",
            "2018-03-18 04:13:42 (194 KB/s) - ‘data/img.jpg’ saved [106870/106870]\n",
            "\n"
          ],
          "name": "stdout"
        },
        {
          "output_type": "display_data",
          "data": {
            "image/png": "[encoded data removed]",
            "text/plain": [
              "<matplotlib.figure.Figure at 0x7f7abbb02b38>"
            ]
          },
          "metadata": {
            "tags": []
          }
        },
        {
          "output_type": "stream",
          "text": [
            "a cat laying down on a bed with a dog .\n",
            "a cat laying on a bed with a laptop .\n",
            "a cat laying on a bed with a dog .\n",
            "a cat laying on a bed with a dog .\n",
            "a cat laying on a bed in a bed .\n",
            "a cat laying on a bed with a dog .\n",
            "a cat laying on a bed with a dog .\n",
            "a cat laying on a bed with a dog .\n",
            "a cat laying on a bed with a dog .\n",
            "a cat laying on a bed with a dog .\n"
          ],
          "name": "stdout"
        }
      ]
    },
    {
      "cell_type": "markdown",
      "metadata": {
        "id": "YboPVL7jtmPN",
        "colab_type": "text"
      },
      "source": [
        "# Demo\n",
        "\n",
        "ВОТ ЩАС БУИТ СМИШНО\n",
        "\n",
        "Теперь ищите свои картинки, применяйте к ним сетку, смотрите че получится, реализовывайте вариативную часть =)"
      ]
    },
    {
      "cell_type": "code",
      "metadata": {
        "id": "Q7xK72Y0tmPO",
        "colab_type": "code",
        "colab": {}
      },
      "source": [
        "# apply your network on images you've found\n",
        "#\n",
        "#"
      ],
      "execution_count": 0,
      "outputs": []
    }
  ]
}